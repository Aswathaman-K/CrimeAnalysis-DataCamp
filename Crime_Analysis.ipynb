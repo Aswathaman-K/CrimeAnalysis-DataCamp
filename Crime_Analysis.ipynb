{
 "cells": [
  {
   "cell_type": "code",
   "execution_count": null,
   "id": "1a09617f-a6e6-4edf-bcb8-4e0290becbf8",
   "metadata": {},
   "outputs": [],
   "source": [
    "import pandas as pd\n",
    "import numpy as np\n",
    "import matplotlib.pyplot as plt\n",
    "import seaborn as sns\n",
    "crimes = pd.read_csv(\"D:/DataSets/crimes.csv\", parse_dates=[\"Date Rptd\", \"DATE OCC\"], dtype={\"TIME OCC\": str})"
   ]
  },
  {
   "cell_type": "code",
   "execution_count": null,
   "id": "5c090420-9352-4572-839c-51eee4e2a49c",
   "metadata": {},
   "outputs": [],
   "source": [
    "crimes.info()"
   ]
  },
  {
   "cell_type": "code",
   "execution_count": null,
   "id": "b422d69c-777c-4601-8eb0-d4e26ce1ed31",
   "metadata": {},
   "outputs": [],
   "source": [
    "crimes['TIME OCC'] = crimes['TIME OCC'].astype(int)\n",
    "crimes['TIME OCC'].value_counts(normalize = True)"
   ]
  },
  {
   "cell_type": "code",
   "execution_count": null,
   "id": "3a8338cc-6172-4407-89d6-2d8e6b1a2e23",
   "metadata": {},
   "outputs": [],
   "source": [
    "peak_crime_hour = 12"
   ]
  },
  {
   "cell_type": "code",
   "execution_count": null,
   "id": "1b70099a-01a0-47d0-be2f-55a98c7af174",
   "metadata": {},
   "outputs": [],
   "source": [
    "night_crime_set = crimes[np.logical_or(crimes['TIME OCC'] > 2200, crimes['TIME OCC'] < 400)]\n",
    "sns.countplot(data = night_crime_set, x='AREA NAME')\n",
    "plt.xticks(rotation=90)"
   ]
  },
  {
   "cell_type": "code",
   "execution_count": null,
   "id": "83f16341-88fe-4ba2-9fde-1305b593c7e5",
   "metadata": {},
   "outputs": [],
   "source": [
    "peak_night_crime_location = 'Central'"
   ]
  },
  {
   "cell_type": "code",
   "execution_count": null,
   "id": "786fdcaa-42c0-40e5-9ba4-7d9595db3f2a",
   "metadata": {},
   "outputs": [],
   "source": [
    "condition = [\n",
    "    (crimes['Vict Age'] >= 0) & (crimes['Vict Age'] <= 17),\n",
    "    (crimes['Vict Age'] >= 18) & (crimes['Vict Age'] <= 25),\n",
    "    (crimes['Vict Age'] >= 26) & (crimes['Vict Age'] <= 34),\n",
    "    (crimes['Vict Age'] >= 35) & (crimes['Vict Age'] <= 44),\n",
    "    (crimes['Vict Age'] >= 45) & (crimes['Vict Age'] <= 54),\n",
    "    (crimes['Vict Age'] >= 55) & (crimes['Vict Age'] <= 64)\n",
    "]\n",
    "\n",
    "categories = [\"0-17\", \"18-25\", \"26-34\", \"35-44\", \"45-54\", \"55-64\"]\n",
    "\n",
    "crimes['Age Category'] = np.select(condition, categories, default='65+')"
   ]
  },
  {
   "cell_type": "code",
   "execution_count": null,
   "id": "b483f4aa-a15f-4a37-b304-b5e81d84de6b",
   "metadata": {},
   "outputs": [],
   "source": [
    "victim_ages = crimes.groupby('Age Category')['Age Category'].count()\n",
    "victim_ages"
   ]
  }
 ],
 "metadata": {
  "kernelspec": {
   "display_name": "Python 3 (ipykernel)",
   "language": "python",
   "name": "python3"
  },
  "language_info": {
   "codemirror_mode": {
    "name": "ipython",
    "version": 3
   },
   "file_extension": ".py",
   "mimetype": "text/x-python",
   "name": "python",
   "nbconvert_exporter": "python",
   "pygments_lexer": "ipython3",
   "version": "3.12.4"
  }
 },
 "nbformat": 4,
 "nbformat_minor": 5
}
